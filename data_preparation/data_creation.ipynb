{
 "cells": [
  {
   "cell_type": "code",
   "execution_count": 1,
   "metadata": {},
   "outputs": [],
   "source": [
    "import pandas as pd \n",
    "from sklearn.model_selection import train_test_split\n",
    "\n",
    "data = pd.read_csv('maldonado_corrected.csv')\n",
    "data = data[['comment_text', 'satd']]\n",
    "data['comment_length'] = data['comment_text'].fillna('').apply(len)\n",
    "\n",
    "sampled_data, _ = train_test_split(data, test_size=0.99, stratify=data['satd'], random_state=42)"
   ]
  },
  {
   "cell_type": "code",
   "execution_count": 2,
   "metadata": {},
   "outputs": [
    {
     "data": {
      "text/html": [
       "<div>\n",
       "<style scoped>\n",
       "    .dataframe tbody tr th:only-of-type {\n",
       "        vertical-align: middle;\n",
       "    }\n",
       "\n",
       "    .dataframe tbody tr th {\n",
       "        vertical-align: top;\n",
       "    }\n",
       "\n",
       "    .dataframe thead th {\n",
       "        text-align: right;\n",
       "    }\n",
       "</style>\n",
       "<table border=\"1\" class=\"dataframe\">\n",
       "  <thead>\n",
       "    <tr style=\"text-align: right;\">\n",
       "      <th></th>\n",
       "      <th>comment_text</th>\n",
       "      <th>satd</th>\n",
       "      <th>comment_length</th>\n",
       "    </tr>\n",
       "  </thead>\n",
       "  <tbody>\n",
       "    <tr>\n",
       "      <th>15850</th>\n",
       "      <td>// if we are the dest and is a call action, cr...</td>\n",
       "      <td>0</td>\n",
       "      <td>112</td>\n",
       "    </tr>\n",
       "    <tr>\n",
       "      <th>28772</th>\n",
       "      <td>// TR#18 1.2</td>\n",
       "      <td>0</td>\n",
       "      <td>12</td>\n",
       "    </tr>\n",
       "    <tr>\n",
       "      <th>1667</th>\n",
       "      <td>//Ignore manifest entries.  They're bound to c...</td>\n",
       "      <td>0</td>\n",
       "      <td>167</td>\n",
       "    </tr>\n",
       "    <tr>\n",
       "      <th>35162</th>\n",
       "      <td>//NOTE: unlike all other Loaders, this one is ...</td>\n",
       "      <td>0</td>\n",
       "      <td>87</td>\n",
       "    </tr>\n",
       "    <tr>\n",
       "      <th>4555</th>\n",
       "      <td>// no error as default</td>\n",
       "      <td>0</td>\n",
       "      <td>22</td>\n",
       "    </tr>\n",
       "    <tr>\n",
       "      <th>...</th>\n",
       "      <td>...</td>\n",
       "      <td>...</td>\n",
       "      <td>...</td>\n",
       "    </tr>\n",
       "    <tr>\n",
       "      <th>26331</th>\n",
       "      <td>// the path to the plugin.xml descriptor file ...</td>\n",
       "      <td>0</td>\n",
       "      <td>100</td>\n",
       "    </tr>\n",
       "    <tr>\n",
       "      <th>56813</th>\n",
       "      <td>// Test to see if correct suffix was used to c...</td>\n",
       "      <td>0</td>\n",
       "      <td>65</td>\n",
       "    </tr>\n",
       "    <tr>\n",
       "      <th>55265</th>\n",
       "      <td>// TODO: figure out why bind variables aren't ...</td>\n",
       "      <td>1</td>\n",
       "      <td>53</td>\n",
       "    </tr>\n",
       "    <tr>\n",
       "      <th>53535</th>\n",
       "      <td>// i'th argument</td>\n",
       "      <td>0</td>\n",
       "      <td>16</td>\n",
       "    </tr>\n",
       "    <tr>\n",
       "      <th>30701</th>\n",
       "      <td>// Options</td>\n",
       "      <td>0</td>\n",
       "      <td>10</td>\n",
       "    </tr>\n",
       "  </tbody>\n",
       "</table>\n",
       "<p>622 rows × 3 columns</p>\n",
       "</div>"
      ],
      "text/plain": [
       "                                            comment_text  satd  comment_length\n",
       "15850  // if we are the dest and is a call action, cr...     0             112\n",
       "28772                                       // TR#18 1.2     0              12\n",
       "1667   //Ignore manifest entries.  They're bound to c...     0             167\n",
       "35162  //NOTE: unlike all other Loaders, this one is ...     0              87\n",
       "4555                              // no error as default     0              22\n",
       "...                                                  ...   ...             ...\n",
       "26331  // the path to the plugin.xml descriptor file ...     0             100\n",
       "56813  // Test to see if correct suffix was used to c...     0              65\n",
       "55265  // TODO: figure out why bind variables aren't ...     1              53\n",
       "53535                                   // i'th argument     0              16\n",
       "30701                                         // Options     0              10\n",
       "\n",
       "[622 rows x 3 columns]"
      ]
     },
     "execution_count": 2,
     "metadata": {},
     "output_type": "execute_result"
    }
   ],
   "source": [
    "sampled_data.to_csv(\"sampled_data.csv\", index=False)\n",
    "sampled_data"
   ]
  },
  {
   "cell_type": "code",
   "execution_count": 3,
   "metadata": {},
   "outputs": [
    {
     "data": {
      "text/plain": [
       "count    622.000000\n",
       "mean      56.138264\n",
       "std       61.806228\n",
       "min        2.000000\n",
       "25%       20.000000\n",
       "50%       38.000000\n",
       "75%       75.000000\n",
       "max      689.000000\n",
       "Name: comment_length, dtype: float64"
      ]
     },
     "execution_count": 3,
     "metadata": {},
     "output_type": "execute_result"
    }
   ],
   "source": [
    "sampled_data['comment_length'].describe()"
   ]
  },
  {
   "cell_type": "code",
   "execution_count": 4,
   "metadata": {},
   "outputs": [
    {
     "name": "stdout",
     "output_type": "stream",
     "text": [
      "satd\n",
      "0    577\n",
      "1     45\n",
      "Name: count, dtype: int64\n",
      "satd\n",
      "0    0.927653\n",
      "1    0.072347\n",
      "Name: count, dtype: float64\n"
     ]
    }
   ],
   "source": [
    "satd_counts = sampled_data['satd'].value_counts()\n",
    "satd_ratios = satd_counts / len(sampled_data)\n",
    "print(satd_counts)\n",
    "print(satd_ratios)"
   ]
  },
  {
   "cell_type": "code",
   "execution_count": 5,
   "metadata": {},
   "outputs": [
    {
     "data": {
      "image/png": "[encoded data removed]",
      "text/plain": [
       "<Figure size 640x480 with 1 Axes>"
      ]
     },
     "metadata": {},
     "output_type": "display_data"
    }
   ],
   "source": [
    "import matplotlib.pyplot as plt\n",
    "\n",
    "sampled_data['comment_length'].hist(bins=50)\n",
    "plt.title('Distribution of Comment Length')\n",
    "plt.xlabel('Comment Length')\n",
    "plt.ylabel('Frequency')\n",
    "plt.show()"
   ]
  },
  {
   "cell_type": "code",
   "execution_count": 6,
   "metadata": {},
   "outputs": [],
   "source": [
    "# from datasets import Dataset, load_dataset\n",
    "\n",
    "# dataset = Dataset.from_pandas(sampled_data)\n",
    "# dataset = dataset.remove_columns([\"__index_level_0__\"])\n",
    "# dataset.push_to_hub(\"maldonado_sample_comments\")"
   ]
  },
  {
   "cell_type": "code",
   "execution_count": 7,
   "metadata": {},
   "outputs": [],
   "source": [
    "# satd_dataset_reloaded = load_dataset(\"Devistra06/maldonado_sample_comments\")"
   ]
  },
  {
   "cell_type": "code",
   "execution_count": null,
   "metadata": {},
   "outputs": [],
   "source": []
  }
 ],
 "metadata": {
  "kernelspec": {
   "display_name": "cuda_env",
   "language": "python",
   "name": "python3"
  },
  "language_info": {
   "codemirror_mode": {
    "name": "ipython",
    "version": 3
   },
   "file_extension": ".py",
   "mimetype": "text/x-python",
   "name": "python",
   "nbconvert_exporter": "python",
   "pygments_lexer": "ipython3",
   "version": "3.12.7"
  }
 },
 "nbformat": 4,
 "nbformat_minor": 2
}
